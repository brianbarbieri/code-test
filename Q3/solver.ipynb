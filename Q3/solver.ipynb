{
 "cells": [
  {
   "cell_type": "code",
   "execution_count": 19,
   "metadata": {},
   "outputs": [],
   "source": [
    "import pandas as pd\n",
    "import numpy as np\n",
    "import math"
   ]
  },
  {
   "cell_type": "code",
   "execution_count": 200,
   "metadata": {},
   "outputs": [],
   "source": [
    "ideal_temperature = lambda t : np.maximum(0.005, ((-t**4 + t * 55000) / 55000) - 16)\n",
    "ideal_irradiation_sum = lambda i : (1 - 1 / i * 1000)\n",
    "ideal_fruit_set = lambda f : (8 + f / 8) / 100\n",
    "production = lambda irradiation_sum, average_day_temperature, fruit_set  : ideal_irradiation_sum(irradiation_sum)  * ideal_temperature(average_day_temperature) * ideal_fruit_set(fruit_set) + 0.5"
   ]
  },
  {
   "cell_type": "code",
   "execution_count": 201,
   "metadata": {},
   "outputs": [],
   "source": [
    "irradiation = lambda d : ((np.sin((2*math.pi/52)*(d - 11.6465)) + 1) * 2500) + 2000\n",
    "temperature = lambda d : ((np.sin((2*math.pi/52)*(d - 11.6465)) + 1) * 5) + 18\n",
    "fruit_set = lambda d : (5 + d / 3.5) * (80-d)"
   ]
  },
  {
   "cell_type": "code",
   "execution_count": 267,
   "metadata": {},
   "outputs": [],
   "source": [
    "grow_seasons = 4\n",
    "week = np.arange(51)\n",
    "weeks = np.tile(week, grow_seasons)\n",
    "irradiation_total = [] \n",
    "temperature_total = [] \n",
    "fruit_set_total = []\n",
    "\n",
    "for season in range(grow_seasons):\n",
    "    irradiation_total.append(irradiation(week) + np.random.normal(0, 50, 51))\n",
    "    temperature_total.append(temperature(week) + np.random.normal(0, 0.3, 51))\n",
    "    fruit_set_total.append(fruit_set(week) + np.random.normal(0, 10, 51))\n",
    "\n",
    "irradiation_total = np.concatenate(irradiation_total)\n",
    "temperature_total = np.concatenate(temperature_total)\n",
    "fruit_set_total = np.concatenate(fruit_set_total)"
   ]
  },
  {
   "cell_type": "code",
   "execution_count": 268,
   "metadata": {},
   "outputs": [],
   "source": [
    "realised_prod = production(irradiation_total, temperature_total, fruit_set_total)"
   ]
  },
  {
   "cell_type": "code",
   "execution_count": 273,
   "metadata": {},
   "outputs": [],
   "source": [
    "data = pd.DataFrame(data = {\n",
    "    'week_number' : weeks,\n",
    "    'irradiation' : irradiation_total,\n",
    "    'temperature' : temperature_total,\n",
    "    'fruit_set' : fruit_set_total,\n",
    "    'production' : realised_prod\n",
    "})\n",
    "data.to_csv(\"input.csv\", index=False)"
   ]
  },
  {
   "cell_type": "code",
   "execution_count": 270,
   "metadata": {},
   "outputs": [
    {
     "data": {
      "text/plain": [
       "<AxesSubplot:>"
      ]
     },
     "execution_count": 270,
     "metadata": {},
     "output_type": "execute_result"
    },
    {
     "data": {
      "image/png": "[encoded data removed]",
      "text/plain": [
       "<Figure size 432x288 with 1 Axes>"
      ]
     },
     "metadata": {
      "needs_background": "light"
     },
     "output_type": "display_data"
    }
   ],
   "source": [
    "data[\"production\"].plot()"
   ]
  },
  {
   "cell_type": "code",
   "execution_count": 271,
   "metadata": {},
   "outputs": [
    {
     "data": {
      "text/html": [
       "<div>\n",
       "<style scoped>\n",
       "    .dataframe tbody tr th:only-of-type {\n",
       "        vertical-align: middle;\n",
       "    }\n",
       "\n",
       "    .dataframe tbody tr th {\n",
       "        vertical-align: top;\n",
       "    }\n",
       "\n",
       "    .dataframe thead th {\n",
       "        text-align: right;\n",
       "    }\n",
       "</style>\n",
       "<table border=\"1\" class=\"dataframe\">\n",
       "  <thead>\n",
       "    <tr style=\"text-align: right;\">\n",
       "      <th></th>\n",
       "      <th>week_number</th>\n",
       "      <th>irradiation</th>\n",
       "      <th>temperature</th>\n",
       "      <th>fruit_set</th>\n",
       "      <th>production</th>\n",
       "    </tr>\n",
       "  </thead>\n",
       "  <tbody>\n",
       "    <tr>\n",
       "      <th>week_number</th>\n",
       "      <td>1.000000</td>\n",
       "      <td>-0.034095</td>\n",
       "      <td>-0.032657</td>\n",
       "      <td>0.690734</td>\n",
       "      <td>0.042151</td>\n",
       "    </tr>\n",
       "    <tr>\n",
       "      <th>irradiation</th>\n",
       "      <td>-0.034095</td>\n",
       "      <td>1.000000</td>\n",
       "      <td>0.995666</td>\n",
       "      <td>0.658338</td>\n",
       "      <td>0.629356</td>\n",
       "    </tr>\n",
       "    <tr>\n",
       "      <th>temperature</th>\n",
       "      <td>-0.032657</td>\n",
       "      <td>0.995666</td>\n",
       "      <td>1.000000</td>\n",
       "      <td>0.655838</td>\n",
       "      <td>0.622734</td>\n",
       "    </tr>\n",
       "    <tr>\n",
       "      <th>fruit_set</th>\n",
       "      <td>0.690734</td>\n",
       "      <td>0.658338</td>\n",
       "      <td>0.655838</td>\n",
       "      <td>1.000000</td>\n",
       "      <td>0.579615</td>\n",
       "    </tr>\n",
       "    <tr>\n",
       "      <th>production</th>\n",
       "      <td>0.042151</td>\n",
       "      <td>0.629356</td>\n",
       "      <td>0.622734</td>\n",
       "      <td>0.579615</td>\n",
       "      <td>1.000000</td>\n",
       "    </tr>\n",
       "  </tbody>\n",
       "</table>\n",
       "</div>"
      ],
      "text/plain": [
       "             week_number  irradiation  temperature  fruit_set  production\n",
       "week_number     1.000000    -0.034095    -0.032657   0.690734    0.042151\n",
       "irradiation    -0.034095     1.000000     0.995666   0.658338    0.629356\n",
       "temperature    -0.032657     0.995666     1.000000   0.655838    0.622734\n",
       "fruit_set       0.690734     0.658338     0.655838   1.000000    0.579615\n",
       "production      0.042151     0.629356     0.622734   0.579615    1.000000"
      ]
     },
     "execution_count": 271,
     "metadata": {},
     "output_type": "execute_result"
    }
   ],
   "source": [
    "data.corr()"
   ]
  },
  {
   "cell_type": "code",
   "execution_count": null,
   "metadata": {},
   "outputs": [],
   "source": []
  }
 ],
 "metadata": {
  "kernelspec": {
   "display_name": "Python 3.7.9 ('explainer')",
   "language": "python",
   "name": "python3"
  },
  "language_info": {
   "codemirror_mode": {
    "name": "ipython",
    "version": 3
   },
   "file_extension": ".py",
   "mimetype": "text/x-python",
   "name": "python",
   "nbconvert_exporter": "python",
   "pygments_lexer": "ipython3",
   "version": "3.7.9"
  },
  "orig_nbformat": 4,
  "vscode": {
   "interpreter": {
    "hash": "b40097c5815290a7e7215ac7aa89674c9c8d64424ebd3f7940356c7bf70b7d26"
   }
  }
 },
 "nbformat": 4,
 "nbformat_minor": 2
}
